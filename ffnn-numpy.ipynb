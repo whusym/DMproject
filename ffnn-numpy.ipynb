{
 "cells": [
  {
   "cell_type": "code",
   "execution_count": 1,
   "metadata": {
    "collapsed": false
   },
   "outputs": [],
   "source": [
    "import numpy as np\n",
    "import pandas as pd\n",
    "%matplotlib inline\n",
    "%config InlineBackend.figure_format = 'retina'\n",
    "import matplotlib.pyplot as plt\n",
    "import sklearn.metrics"
   ]
  },
  {
   "cell_type": "code",
   "execution_count": 117,
   "metadata": {
    "collapsed": false
   },
   "outputs": [],
   "source": [
    "#I added corresponding headers to each column to facilitate processing\n",
    "dataframe = pd.read_csv(\"layton_wildprocessed_1\", header = 0)  \n",
    "# print (dataframe)\n",
    "dataframe = dataframe.drop(\"tmp1\", axis = 1)\n",
    "data = dataframe.drop(\"tmp2\", axis = 1)\n",
    "data = data[500:9000]\n",
    "# df.plot(x='emg',y = 'x')\n",
    "# df.head()\n",
    "assert not np.any(np.isnan(data))"
   ]
  },
  {
   "cell_type": "code",
   "execution_count": 119,
   "metadata": {
    "collapsed": false
   },
   "outputs": [
    {
     "name": "stdout",
     "output_type": "stream",
     "text": [
      "False\n"
     ]
    }
   ],
   "source": [
    "#These are the quantative features we need to normalize (all four dimensional inputs)\n",
    "quant_features = ['emg']\n",
    "# Store scalings in a dictionary so we can convert back later\n",
    "scaled_features = {}\n",
    "\n",
    "def data_normalization(data):\n",
    "    for each in quant_features:\n",
    "        mean, std = data[each].mean(), data[each].std()\n",
    "        scaled_features[each] = [mean, std]\n",
    "        data.loc[:, each] = (data[each] - mean)/std\n",
    "        \n",
    "data_normalization(data)\n",
    "# print (data)\n",
    "print (np.any(np.isnan(data)))"
   ]
  },
  {
   "cell_type": "code",
   "execution_count": 98,
   "metadata": {
    "collapsed": false
   },
   "outputs": [],
   "source": [
    "#Divide date into testing and training sets\n",
    "train_data = data"
   ]
  },
  {
   "cell_type": "code",
   "execution_count": 99,
   "metadata": {
    "collapsed": true
   },
   "outputs": [],
   "source": [
    "tr_dataframe = pd.read_csv(\"sam_wildprocessed\", header = 0)  \n",
    "# print (data)\n",
    "tr_dataframe = tr_dataframe.drop(\"tmp1\", axis = 1)\n",
    "tr_data = tr_dataframe.drop(\"tmp2\", axis = 1)\n",
    "test_data = tr_data\n",
    "# print(test_data)\n",
    "#These are the quantative features we need to normalize (all four dimensional inputs)\n",
    "data_normalization(test_data)"
   ]
  },
  {
   "cell_type": "code",
   "execution_count": 100,
   "metadata": {
    "collapsed": false
   },
   "outputs": [],
   "source": [
    "target_fields = ['x', 'y', 'z']\n",
    "features, targets = train_data[:-1], train_data[1:][target_fields]\n",
    "# print(features, targets)\n",
    "test_features, test_targets = test_data[:-1], test_data[1:][target_fields]"
   ]
  },
  {
   "cell_type": "code",
   "execution_count": 121,
   "metadata": {
    "collapsed": false
   },
   "outputs": [],
   "source": [
    "#divide training data into training and validation sets\n",
    "train_features, train_targets = features[:-2000], targets[:-2000]\n",
    "val_features, val_targets = features[-2000:], targets[-2000:]\n",
    "# print (train_features, train_targets)\n",
    "assert not np.any(np.isnan(features))"
   ]
  },
  {
   "cell_type": "code",
   "execution_count": 122,
   "metadata": {
    "collapsed": false
   },
   "outputs": [],
   "source": [
    "def MSE(y, Y):\n",
    "#     return (sklearn.metrics.mean_squared_error(y, Y))\n",
    "    return (np.average(np.subtract(y,Y)**2))\n",
    "\n",
    "def sigmoid(x):\n",
    "    return 1 / (1 + np.exp(-x))\n",
    "\n",
    "def relu(x):\n",
    "    '''\n",
    "    relu doesn't really work here....\n",
    "    '''\n",
    "    return np.maximum(x, 0)\n",
    "\n",
    "def tanh(x):\n",
    "    return np.tanh(x)\n",
    "\n",
    "def tanh_deriv(x):\n",
    "    return 1.0 - np.tanh(x)**2\n",
    "\n",
    "class NeuralNetwork(object):\n",
    "    \n",
    "    def __init__(self, input_nodes, hidden_nodes, output_nodes, learning_rate, bias):\n",
    "        # Set number of nodes in input, hidden and output layers.\n",
    "        self.input_nodes = input_nodes\n",
    "        self.hidden_nodes = hidden_nodes\n",
    "        self.output_nodes = output_nodes\n",
    "\n",
    "#         Initialize weights\n",
    "        self.weights_input_to_hidden = np.random.normal(0.0, self.hidden_nodes**-0.5, \n",
    "                                       (self.hidden_nodes, self.input_nodes)) \n",
    "#         self.weights_input_to_hidden = np.random.random(\n",
    "#                                        (self.hidden_nodes, self.input_nodes)) - bias \n",
    "        self.weights_hidden_to_output = np.random.normal(0.0, self.output_nodes**-0.5, \n",
    "                                       (self.output_nodes, self.hidden_nodes))\n",
    "#         self.weights_hidden_to_output = np.random.random(\n",
    "#                                        (self.output_nodes, self.hidden_nodes))\n",
    "        self.lr = learning_rate\n",
    "        \n",
    "        # Activation function is the sigmoid function, we could also use lamda notation here\n",
    "\n",
    "        self.activation_function = sigmoid\n",
    "\n",
    "    \n",
    "    def train(self, inputs_list, targets_list):\n",
    "        # Convert inputs list to 2d array\n",
    "        inputs = np.array(inputs_list, ndmin=2, dtype=np.float128).T\n",
    "        targets = np.array(targets_list, ndmin=2, dtype=np.float128).T\n",
    "        \n",
    "        ### Forward pass ###\n",
    "        # Hidden layer \n",
    "        hidden_inputs = np.dot(self.weights_input_to_hidden, inputs) \n",
    "        hidden_outputs = self.activation_function(hidden_inputs)\n",
    "        \n",
    "        # Output layer\n",
    "        final_inputs = np.dot(self.weights_hidden_to_output, hidden_outputs)\n",
    "        final_outputs = final_inputs\n",
    "        \n",
    "        ### Backward pass ###\n",
    "        \n",
    "        # Output error\n",
    "        output_errors =  targets - final_outputs\n",
    "        \n",
    "        # Backpropagated error\n",
    "        hidden_errors = np.dot(self.weights_hidden_to_output.T, output_errors)  \n",
    "        hidden_grad = hidden_outputs * (1 - hidden_outputs) \n",
    "        \n",
    "        # Update the weights\n",
    "        self.weights_hidden_to_output += self.lr * np.dot(output_errors, hidden_outputs.T)\n",
    "        self.weights_input_to_hidden += self.lr * np.dot((hidden_errors * hidden_grad), inputs.T)   \n",
    "        \n",
    "    def run(self, inputs_list):\n",
    "        # Run a forward pass through the network\n",
    "        inputs = np.array(inputs_list, ndmin=2, dtype=np.float128).T\n",
    "#         print (inputs)\n",
    "        #### Implementation of the forward pass here ####\n",
    "        # Hidden layer\n",
    "        hidden_inputs = np.dot(self.weights_input_to_hidden, inputs)\n",
    "#         print (hidden_inputs)\n",
    "        hidden_outputs = self.activation_function(hidden_inputs)\n",
    "\n",
    "        # Output layer\n",
    "        final_outputs = np.dot(self.weights_hidden_to_output, hidden_outputs)\n",
    "#         print (final_outputs)\n",
    "        return final_outputs"
   ]
  },
  {
   "cell_type": "code",
   "execution_count": 136,
   "metadata": {
    "collapsed": false
   },
   "outputs": [
    {
     "name": "stdout",
     "output_type": "stream",
     "text": [
      "Progress: 0.0% ... Training loss: 0.8006 ... Validation loss: 1.2099 ... Test loss: 0.4210\n",
      "Progress: 1.0% ... Training loss: 0.6033 ... Validation loss: 0.9417 ... Test loss: 0.3002\n",
      "Progress: 2.0% ... Training loss: 0.4501 ... Validation loss: 0.7130 ... Test loss: 0.2158\n",
      "Progress: 3.0% ... Training loss: 0.3187 ... Validation loss: 0.5180 ... Test loss: 0.2017\n",
      "Progress: 4.0% ... Training loss: 0.2434 ... Validation loss: 0.4067 ... Test loss: 0.2047\n",
      "Progress: 5.0% ... Training loss: 0.1915 ... Validation loss: 0.3370 ... Test loss: 0.1825\n",
      "Progress: 6.0% ... Training loss: 0.1505 ... Validation loss: 0.2537 ... Test loss: 0.1871\n",
      "Progress: 7.0% ... Training loss: 0.1298 ... Validation loss: 0.2202 ... Test loss: 0.1795\n",
      "Progress: 8.0% ... Training loss: 0.1213 ... Validation loss: 0.2121 ... Test loss: 0.1646\n",
      "Progress: 9.0% ... Training loss: 0.1164 ... Validation loss: 0.2012 ... Test loss: 0.1620\n",
      "Progress: 10.0% ... Training loss: 0.1098 ... Validation loss: 0.1867 ... Test loss: 0.1880\n",
      "Progress: 11.0% ... Training loss: 0.1034 ... Validation loss: 0.1742 ... Test loss: 0.1833\n",
      "Progress: 12.0% ... Training loss: 0.1055 ... Validation loss: 0.1817 ... Test loss: 0.1657\n",
      "Progress: 13.0% ... Training loss: 0.0974 ... Validation loss: 0.1646 ... Test loss: 0.1666\n",
      "Progress: 14.0% ... Training loss: 0.0951 ... Validation loss: 0.1568 ... Test loss: 0.1698\n",
      "Progress: 15.0% ... Training loss: 0.0921 ... Validation loss: 0.1520 ... Test loss: 0.1605\n",
      "Progress: 16.0% ... Training loss: 0.0904 ... Validation loss: 0.1501 ... Test loss: 0.1516\n",
      "Progress: 17.0% ... Training loss: 0.0877 ... Validation loss: 0.1443 ... Test loss: 0.1609\n",
      "Progress: 18.0% ... Training loss: 0.0857 ... Validation loss: 0.1411 ... Test loss: 0.1507\n",
      "Progress: 19.0% ... Training loss: 0.0838 ... Validation loss: 0.1336 ... Test loss: 0.1591\n",
      "Progress: 20.0% ... Training loss: 0.0819 ... Validation loss: 0.1284 ... Test loss: 0.1579\n",
      "Progress: 21.0% ... Training loss: 0.0796 ... Validation loss: 0.1222 ... Test loss: 0.1465\n",
      "Progress: 22.0% ... Training loss: 0.0778 ... Validation loss: 0.1203 ... Test loss: 0.1334\n",
      "Progress: 23.0% ... Training loss: 0.0787 ... Validation loss: 0.1117 ... Test loss: 0.1460\n",
      "Progress: 24.0% ... Training loss: 0.0763 ... Validation loss: 0.1093 ... Test loss: 0.1337\n",
      "Progress: 25.0% ... Training loss: 0.0734 ... Validation loss: 0.1079 ... Test loss: 0.1235\n",
      "Progress: 26.0% ... Training loss: 0.0702 ... Validation loss: 0.1059 ... Test loss: 0.1212\n",
      "Progress: 27.0% ... Training loss: 0.0678 ... Validation loss: 0.1072 ... Test loss: 0.1159\n",
      "Progress: 28.0% ... Training loss: 0.0661 ... Validation loss: 0.1057 ... Test loss: 0.1032\n",
      "Progress: 29.0% ... Training loss: 0.0646 ... Validation loss: 0.1032 ... Test loss: 0.1009\n",
      "Progress: 30.0% ... Training loss: 0.0631 ... Validation loss: 0.0972 ... Test loss: 0.1003\n",
      "Progress: 31.0% ... Training loss: 0.0618 ... Validation loss: 0.0966 ... Test loss: 0.0913\n",
      "Progress: 32.0% ... Training loss: 0.0613 ... Validation loss: 0.0951 ... Test loss: 0.0843\n",
      "Progress: 33.0% ... Training loss: 0.0604 ... Validation loss: 0.0896 ... Test loss: 0.0862\n",
      "Progress: 34.0% ... Training loss: 0.0579 ... Validation loss: 0.0902 ... Test loss: 0.0794\n",
      "Progress: 35.0% ... Training loss: 0.0572 ... Validation loss: 0.0894 ... Test loss: 0.0733\n",
      "Progress: 36.0% ... Training loss: 0.0566 ... Validation loss: 0.0827 ... Test loss: 0.0833\n",
      "Progress: 37.0% ... Training loss: 0.0556 ... Validation loss: 0.0804 ... Test loss: 0.0812\n",
      "Progress: 38.0% ... Training loss: 0.0540 ... Validation loss: 0.0802 ... Test loss: 0.0721\n",
      "Progress: 39.0% ... Training loss: 0.0527 ... Validation loss: 0.0806 ... Test loss: 0.0644\n",
      "Progress: 40.0% ... Training loss: 0.0515 ... Validation loss: 0.0795 ... Test loss: 0.0659\n",
      "Progress: 41.0% ... Training loss: 0.0509 ... Validation loss: 0.0802 ... Test loss: 0.0660\n",
      "Progress: 42.0% ... Training loss: 0.0506 ... Validation loss: 0.0817 ... Test loss: 0.0621\n",
      "Progress: 43.0% ... Training loss: 0.0501 ... Validation loss: 0.0794 ... Test loss: 0.0591\n",
      "Progress: 44.0% ... Training loss: 0.0488 ... Validation loss: 0.0742 ... Test loss: 0.0612\n",
      "Progress: 45.0% ... Training loss: 0.0478 ... Validation loss: 0.0707 ... Test loss: 0.0596\n",
      "Progress: 46.0% ... Training loss: 0.0472 ... Validation loss: 0.0707 ... Test loss: 0.0573\n",
      "Progress: 47.0% ... Training loss: 0.0463 ... Validation loss: 0.0709 ... Test loss: 0.0531\n",
      "Progress: 48.0% ... Training loss: 0.0457 ... Validation loss: 0.0691 ... Test loss: 0.0513\n",
      "Progress: 49.0% ... Training loss: 0.0452 ... Validation loss: 0.0666 ... Test loss: 0.0526\n",
      "Progress: 50.0% ... Training loss: 0.0447 ... Validation loss: 0.0659 ... Test loss: 0.0447\n",
      "Progress: 51.0% ... Training loss: 0.0447 ... Validation loss: 0.0633 ... Test loss: 0.0436\n",
      "Progress: 52.0% ... Training loss: 0.0439 ... Validation loss: 0.0618 ... Test loss: 0.0471\n",
      "Progress: 53.0% ... Training loss: 0.0428 ... Validation loss: 0.0600 ... Test loss: 0.0476\n",
      "Progress: 54.0% ... Training loss: 0.0422 ... Validation loss: 0.0584 ... Test loss: 0.0427\n",
      "Progress: 55.0% ... Training loss: 0.0414 ... Validation loss: 0.0588 ... Test loss: 0.0426\n",
      "Progress: 56.0% ... Training loss: 0.0409 ... Validation loss: 0.0570 ... Test loss: 0.0416\n",
      "Progress: 57.0% ... Training loss: 0.0424 ... Validation loss: 0.0545 ... Test loss: 0.0464\n",
      "Progress: 58.0% ... Training loss: 0.0402 ... Validation loss: 0.0526 ... Test loss: 0.0427\n",
      "Progress: 59.0% ... Training loss: 0.0391 ... Validation loss: 0.0534 ... Test loss: 0.0394\n",
      "Progress: 60.0% ... Training loss: 0.0386 ... Validation loss: 0.0528 ... Test loss: 0.0371\n",
      "Progress: 61.0% ... Training loss: 0.0385 ... Validation loss: 0.0539 ... Test loss: 0.0344\n",
      "Progress: 62.0% ... Training loss: 0.0383 ... Validation loss: 0.0543 ... Test loss: 0.0349\n",
      "Progress: 63.0% ... Training loss: 0.0385 ... Validation loss: 0.0557 ... Test loss: 0.0361\n",
      "Progress: 64.0% ... Training loss: 0.0381 ... Validation loss: 0.0543 ... Test loss: 0.0340\n",
      "Progress: 65.0% ... Training loss: 0.0373 ... Validation loss: 0.0512 ... Test loss: 0.0364\n",
      "Progress: 66.0% ... Training loss: 0.0372 ... Validation loss: 0.0524 ... Test loss: 0.0334\n",
      "Progress: 67.0% ... Training loss: 0.0371 ... Validation loss: 0.0519 ... Test loss: 0.0315\n",
      "Progress: 68.0% ... Training loss: 0.0366 ... Validation loss: 0.0502 ... Test loss: 0.0334\n",
      "Progress: 69.0% ... Training loss: 0.0367 ... Validation loss: 0.0512 ... Test loss: 0.0308\n",
      "Progress: 70.0% ... Training loss: 0.0367 ... Validation loss: 0.0522 ... Test loss: 0.0295\n",
      "Progress: 71.0% ... Training loss: 0.0362 ... Validation loss: 0.0502 ... Test loss: 0.0301\n",
      "Progress: 72.0% ... Training loss: 0.0359 ... Validation loss: 0.0497 ... Test loss: 0.0313\n",
      "Progress: 73.0% ... Training loss: 0.0355 ... Validation loss: 0.0477 ... Test loss: 0.0308\n",
      "Progress: 74.0% ... Training loss: 0.0351 ... Validation loss: 0.0456 ... Test loss: 0.0319\n",
      "Progress: 75.0% ... Training loss: 0.0354 ... Validation loss: 0.0467 ... Test loss: 0.0312\n",
      "Progress: 76.0% ... Training loss: 0.0349 ... Validation loss: 0.0425 ... Test loss: 0.0338\n",
      "Progress: 77.0% ... Training loss: 0.0355 ... Validation loss: 0.0417 ... Test loss: 0.0365\n",
      "Progress: 78.0% ... Training loss: 0.0344 ... Validation loss: 0.0430 ... Test loss: 0.0305\n",
      "Progress: 79.0% ... Training loss: 0.0342 ... Validation loss: 0.0430 ... Test loss: 0.0295\n",
      "Progress: 80.0% ... Training loss: 0.0340 ... Validation loss: 0.0425 ... Test loss: 0.0292\n",
      "Progress: 81.0% ... Training loss: 0.0349 ... Validation loss: 0.0387 ... Test loss: 0.0365\n",
      "Progress: 82.0% ... Training loss: 0.0342 ... Validation loss: 0.0397 ... Test loss: 0.0289\n",
      "Progress: 83.0% ... Training loss: 0.0335 ... Validation loss: 0.0396 ... Test loss: 0.0295\n",
      "Progress: 84.0% ... Training loss: 0.0333 ... Validation loss: 0.0402 ... Test loss: 0.0302\n",
      "Progress: 85.0% ... Training loss: 0.0332 ... Validation loss: 0.0383 ... Test loss: 0.0307\n",
      "Progress: 86.0% ... Training loss: 0.0331 ... Validation loss: 0.0381 ... Test loss: 0.0274\n",
      "Progress: 87.0% ... Training loss: 0.0329 ... Validation loss: 0.0382 ... Test loss: 0.0288\n",
      "Progress: 88.0% ... Training loss: 0.0328 ... Validation loss: 0.0382 ... Test loss: 0.0303\n",
      "Progress: 89.0% ... Training loss: 0.0326 ... Validation loss: 0.0375 ... Test loss: 0.0298\n",
      "Progress: 90.0% ... Training loss: 0.0325 ... Validation loss: 0.0367 ... Test loss: 0.0289\n",
      "Progress: 91.0% ... Training loss: 0.0324 ... Validation loss: 0.0368 ... Test loss: 0.0270\n",
      "Progress: 92.0% ... Training loss: 0.0321 ... Validation loss: 0.0365 ... Test loss: 0.0263\n",
      "Progress: 93.0% ... Training loss: 0.0323 ... Validation loss: 0.0371 ... Test loss: 0.0262\n",
      "Progress: 94.0% ... Training loss: 0.0321 ... Validation loss: 0.0356 ... Test loss: 0.0276\n",
      "Progress: 95.0% ... Training loss: 0.0319 ... Validation loss: 0.0360 ... Test loss: 0.0279\n",
      "Progress: 96.0% ... Training loss: 0.0319 ... Validation loss: 0.0356 ... Test loss: 0.0260\n",
      "Progress: 97.0% ... Training loss: 0.0317 ... Validation loss: 0.0359 ... Test loss: 0.0257\n",
      "Progress: 98.0% ... Training loss: 0.0316 ... Validation loss: 0.0354 ... Test loss: 0.0250\n",
      "Progress: 99.0% ... Training loss: 0.0315 ... Validation loss: 0.0349 ... Test loss: 0.0257\n"
     ]
    }
   ],
   "source": [
    "import sys\n",
    "\n",
    "### Set the hyperparameters here ###\n",
    "epochs = 100\n",
    "learning_rate = 0.01\n",
    "hidden_nodes = 8\n",
    "output_nodes = 3\n",
    "bias = 0.001\n",
    "\n",
    "N_i = train_features.shape[1]\n",
    "network = NeuralNetwork(N_i, hidden_nodes, output_nodes, learning_rate, bias)\n",
    "\n",
    "losses = {'train':[], 'validation':[], 'test':[]}\n",
    "# for t in target_fields:\n",
    "#     print (\"Now training for \" + str(t))\n",
    "for e in range(epochs):\n",
    "    ## Go through a random batch of 128 records from the training data set\n",
    "    batch = np.random.choice(train_features.index, size=64)\n",
    "    for record, target in zip(train_features.ix[batch].values, \n",
    "                              train_targets.ix[batch].values):\n",
    "        network.train(record, target)\n",
    "\n",
    "    ## Printing out the training progress\n",
    "#     print (train_targets.values.T)\n",
    "    train_loss = MSE(network.run(train_features), train_targets.values.T)  \n",
    "    val_loss = MSE(network.run(val_features), val_targets.values.T)\n",
    "    test_loss = MSE(network.run(test_features), test_targets.values.T)\n",
    "#         sys.stdout.write(\"\\rProgress: \" + str(100 * e/float(epochs))[:5] \\\n",
    "#                          + \"% ... Training loss: \" + str(train_loss)[:6] \\\n",
    "#                          + \" ... Validation loss: \" + str(val_loss)[:6])\n",
    "\n",
    "    print (\"\\rProgress: \" + str(100 * e/float(epochs))[:5] \\\n",
    "                     + \"% ... Training loss: \" + str(train_loss)[:6] \\\n",
    "                     + \" ... Validation loss: \" + str(val_loss)[:6]\\\n",
    "                     + \" ... Test loss: \" + str(test_loss)[:6]\n",
    "          )\n",
    "    losses['train'].append(train_loss)\n",
    "    losses['validation'].append(val_loss)\n",
    "    losses['test'].append(test_loss)\n",
    "#     print (network.weights_input_to_hidden, network.weights_hidden_to_output)\n",
    "\n",
    "# print (test_loss)"
   ]
  },
  {
   "cell_type": "code",
   "execution_count": 137,
   "metadata": {
    "collapsed": false
   },
   "outputs": [
    {
     "data": {
      "text/plain": [
       "(-0.034213904858548222, 0.3)"
      ]
     },
     "execution_count": 137,
     "metadata": {},
     "output_type": "execute_result"
    },
    {
     "data": {
      "image/png": "[encoded data removed]",
      "text/plain": [
       "<matplotlib.figure.Figure at 0x1a16552160>"
      ]
     },
     "metadata": {
      "image/png": {
       "height": 252,
       "width": 380
      }
     },
     "output_type": "display_data"
    }
   ],
   "source": [
    "plt.plot(losses['train'], label='Training loss')\n",
    "plt.plot(losses['validation'], label='Validation loss')\n",
    "plt.plot(losses['test'], label='Test loss')\n",
    "plt.legend()\n",
    "plt.ylim(ymax=0.3)"
   ]
  },
  {
   "cell_type": "code",
   "execution_count": 138,
   "metadata": {
    "collapsed": false
   },
   "outputs": [
    {
     "name": "stdout",
     "output_type": "stream",
     "text": [
      "[[-0.2964402  -1.01763687 -0.54187935  0.7761892 ]\n",
      " [ 0.05100697 -0.22790338 -0.46366724  0.63275803]\n",
      " [ 0.38197961  0.19424032  0.93860677  0.86387993]\n",
      " [ 0.31006952  0.59082783 -0.56626507 -0.05051789]\n",
      " [-0.18935916 -0.20890188  0.64626318 -0.30751908]\n",
      " [ 0.1583232  -0.3629618  -0.0293073  -0.79848429]\n",
      " [ 0.07348727 -0.84757232 -0.6087401   0.03471074]\n",
      " [-0.26083696  1.03174857 -0.30102153  0.06530886]] [[-0.73359549  0.24783488  0.12837891  1.05314026 -0.21672764 -1.00180238\n",
      "  -0.89746122  1.54573602]\n",
      " [-0.737953   -0.76356669  1.16155281 -1.08147059  2.07406976  0.26194338\n",
      "  -0.77264575 -0.25870304]\n",
      " [ 1.21166249  0.93266608  1.03538767 -0.42243718 -1.25447217 -1.63813514\n",
      "  -0.13221548  0.36608575]]\n"
     ]
    }
   ],
   "source": [
    "print (network.weights_input_to_hidden, network.weights_hidden_to_output)\n",
    "tr_dataframe1 = pd.read_csv(\"val_wildprocessed\", header = 0)  \n",
    "# print (data)\n",
    "tr_dataframe1 = tr_dataframe1.drop(\"tmp1\", axis = 1)\n",
    "tr_data1 = tr_dataframe1.drop(\"tmp2\", axis = 1)\n",
    "test_data1 = tr_data1\n",
    "# print(test_data)\n",
    "#These are the quantative features we need to normalize (all four dimensional inputs)\n",
    "data_normalization(test_data1)\n"
   ]
  },
  {
   "cell_type": "markdown",
   "metadata": {},
   "source": [
    "## TODO\n",
    "\n",
    "* More tests on the results; especially on measuring the errors; (Maybe cross-validation?)"
   ]
  },
  {
   "cell_type": "code",
   "execution_count": null,
   "metadata": {
    "collapsed": true
   },
   "outputs": [],
   "source": []
  }
 ],
 "metadata": {
  "kernelspec": {
   "display_name": "Python 3",
   "language": "python",
   "name": "python3"
  },
  "language_info": {
   "codemirror_mode": {
    "name": "ipython",
    "version": 3
   },
   "file_extension": ".py",
   "mimetype": "text/x-python",
   "name": "python",
   "nbconvert_exporter": "python",
   "pygments_lexer": "ipython3",
   "version": "3.5.2"
  }
 },
 "nbformat": 4,
 "nbformat_minor": 2
}
